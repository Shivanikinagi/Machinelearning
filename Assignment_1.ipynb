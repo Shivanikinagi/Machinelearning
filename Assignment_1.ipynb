{
 "cells": [
  {
   "cell_type": "code",
   "execution_count": 2,
   "metadata": {
    "executionInfo": {
     "elapsed": 8704,
     "status": "ok",
     "timestamp": 1737036738001,
     "user": {
      "displayName": "Sayyam",
      "userId": "00399086545905970267"
     },
     "user_tz": -330
    },
    "id": "_Kzq7XFd9-Pu"
   },
   "outputs": [],
   "source": [
    "import numpy as np\n",
    "import pandas as pd\n",
    "import matplotlib.pyplot as plt\n",
    "import seaborn as sns\n"
   ]
  },
  {
   "cell_type": "code",
   "execution_count": 3,
   "metadata": {
    "executionInfo": {
     "elapsed": 42,
     "status": "ok",
     "timestamp": 1737036738003,
     "user": {
      "displayName": "Sayyam",
      "userId": "00399086545905970267"
     },
     "user_tz": -330
    },
    "id": "biqAypaICOgs"
   },
   "outputs": [],
   "source": [
    "data=pd.read_csv(\"/content/Data.csv\")"
   ]
  },
  {
   "cell_type": "code",
   "execution_count": 4,
   "metadata": {
    "colab": {
     "base_uri": "https://localhost:8080/"
    },
    "executionInfo": {
     "elapsed": 42,
     "status": "ok",
     "timestamp": 1737036738005,
     "user": {
      "displayName": "Sayyam",
      "userId": "00399086545905970267"
     },
     "user_tz": -330
    },
    "id": "Vzsa_m4XFF7g",
    "outputId": "57bb5d16-3ef5-47f1-95b7-10aa0c09abf3"
   },
   "outputs": [
    {
     "name": "stdout",
     "output_type": "stream",
     "text": [
      "   Country   Age   Salary Purchased\n",
      "0   France  44.0  72000.0        No\n",
      "1    Spain  27.0  48000.0       Yes\n",
      "2  Germany  30.0  54000.0        No\n",
      "3    Spain  38.0  61000.0        No\n",
      "4  Germany  40.0      NaN       Yes\n"
     ]
    }
   ],
   "source": [
    "print(data.head())"
   ]
  },
  {
   "cell_type": "code",
   "execution_count": 5,
   "metadata": {
    "colab": {
     "base_uri": "https://localhost:8080/"
    },
    "executionInfo": {
     "elapsed": 38,
     "status": "ok",
     "timestamp": 1737036738006,
     "user": {
      "displayName": "Sayyam",
      "userId": "00399086545905970267"
     },
     "user_tz": -330
    },
    "id": "LrOAMjczFVgs",
    "outputId": "35aa348d-8741-4d0c-f722-9808f3570c1c"
   },
   "outputs": [
    {
     "name": "stdout",
     "output_type": "stream",
     "text": [
      "Shape of Data (10, 4)\n"
     ]
    }
   ],
   "source": [
    "print(\"Shape of Data\",data.shape)"
   ]
  },
  {
   "cell_type": "code",
   "execution_count": 6,
   "metadata": {
    "colab": {
     "base_uri": "https://localhost:8080/"
    },
    "executionInfo": {
     "elapsed": 32,
     "status": "ok",
     "timestamp": 1737036738006,
     "user": {
      "displayName": "Sayyam",
      "userId": "00399086545905970267"
     },
     "user_tz": -330
    },
    "id": "wQ4qUvmRFiGA",
    "outputId": "d7a66327-c65e-4588-9638-ece07ead9997"
   },
   "outputs": [
    {
     "name": "stdout",
     "output_type": "stream",
     "text": [
      "Missing values Country      0\n",
      "Age          1\n",
      "Salary       1\n",
      "Purchased    0\n",
      "dtype: int64\n"
     ]
    }
   ],
   "source": [
    "print(\"Missing values\", data.isnull().sum())"
   ]
  },
  {
   "cell_type": "code",
   "execution_count": 7,
   "metadata": {
    "colab": {
     "base_uri": "https://localhost:8080/"
    },
    "executionInfo": {
     "elapsed": 28,
     "status": "ok",
     "timestamp": 1737036738007,
     "user": {
      "displayName": "Sayyam",
      "userId": "00399086545905970267"
     },
     "user_tz": -330
    },
    "id": "8QVM_f90G1B4",
    "outputId": "58a25a8e-e702-4766-f32a-5ff28c6a4e77"
   },
   "outputs": [
    {
     "name": "stdout",
     "output_type": "stream",
     "text": [
      "Data Type\n",
      "Country       object\n",
      "Age          float64\n",
      "Salary       float64\n",
      "Purchased     object\n",
      "dtype: object\n"
     ]
    }
   ],
   "source": [
    "print(\"Data Type\")\n",
    "print(data.dtypes)"
   ]
  },
  {
   "cell_type": "code",
   "execution_count": 8,
   "metadata": {
    "colab": {
     "base_uri": "https://localhost:8080/"
    },
    "executionInfo": {
     "elapsed": 24,
     "status": "ok",
     "timestamp": 1737036738007,
     "user": {
      "displayName": "Sayyam",
      "userId": "00399086545905970267"
     },
     "user_tz": -330
    },
    "id": "XkY_zoiuHWEa",
    "outputId": "45526e48-de8f-46a2-893c-206429306a49"
   },
   "outputs": [
    {
     "name": "stdout",
     "output_type": "stream",
     "text": [
      "Country      0\n",
      "Age          0\n",
      "Salary       0\n",
      "Purchased    0\n",
      "dtype: int64\n"
     ]
    }
   ],
   "source": [
    "zero=(data == 0).sum()\n",
    "print(zero)"
   ]
  },
  {
   "cell_type": "code",
   "execution_count": 9,
   "metadata": {
    "colab": {
     "base_uri": "https://localhost:8080/"
    },
    "executionInfo": {
     "elapsed": 19,
     "status": "ok",
     "timestamp": 1737036738007,
     "user": {
      "displayName": "Sayyam",
      "userId": "00399086545905970267"
     },
     "user_tz": -330
    },
    "id": "vgpCcaW3Juh9",
    "outputId": "e7083136-8b42-45e9-d9c5-4be9a94ea4df"
   },
   "outputs": [
    {
     "name": "stdout",
     "output_type": "stream",
     "text": [
      "Index(['Country', 'Age', 'Salary', 'Purchased'], dtype='object')\n",
      "   Country   Age\n",
      "0   France  44.0\n",
      "1    Spain  27.0\n",
      "2  Germany  30.0\n",
      "3    Spain  38.0\n",
      "4  Germany  40.0\n",
      "   Country   Age   Salary Purchased\n",
      "0   France  44.0  72000.0        No\n",
      "1    Spain  27.0  48000.0       Yes\n",
      "2  Germany  30.0  54000.0        No\n",
      "3    Spain  38.0  61000.0        No\n",
      "4  Germany  40.0      NaN       Yes\n",
      "   Country   Age   Salary Purchased\n",
      "1    Spain  27.0  48000.0       Yes\n",
      "2  Germany  30.0  54000.0        No\n",
      "5   France  35.0  58000.0       Yes\n",
      "9   France  37.0  67000.0       Yes\n",
      "3    Spain  38.0  61000.0        No\n"
     ]
    }
   ],
   "source": [
    "print(data.columns)\n",
    "\n",
    "print(data[['Country', 'Age']].head())  \n",
    "print(data.iloc[0:5])  \n",
    "\n",
    "sorted_data = data.sort_values(by='Age') \n",
    "print(sorted_data.head())"
   ]
  },
  {
   "cell_type": "code",
   "execution_count": 10,
   "metadata": {
    "colab": {
     "base_uri": "https://localhost:8080/"
    },
    "executionInfo": {
     "elapsed": 16,
     "status": "ok",
     "timestamp": 1737036738008,
     "user": {
      "displayName": "Sayyam",
      "userId": "00399086545905970267"
     },
     "user_tz": -330
    },
    "id": "DAeix9TzMXcx",
    "outputId": "53bc4931-8f92-47f6-9950-bf87a36fb060"
   },
   "outputs": [
    {
     "name": "stdout",
     "output_type": "stream",
     "text": [
      "Summary statistics for CSV data:\n",
      "             Age        Salary\n",
      "count   9.000000      9.000000\n",
      "mean   38.777778  63777.777778\n",
      "std     7.693793  12265.579662\n",
      "min    27.000000  48000.000000\n",
      "25%    35.000000  54000.000000\n",
      "50%    38.000000  61000.000000\n",
      "75%    44.000000  72000.000000\n",
      "max    50.000000  83000.000000\n"
     ]
    }
   ],
   "source": [
    "print(\"Summary statistics for CSV data:\")\n",
    "print(data.describe())"
   ]
  },
  {
   "cell_type": "code",
   "execution_count": 19,
   "metadata": {
    "colab": {
     "base_uri": "https://localhost:8080/"
    },
    "executionInfo": {
     "elapsed": 776,
     "status": "ok",
     "timestamp": 1737037307019,
     "user": {
      "displayName": "Sayyam",
      "userId": "00399086545905970267"
     },
     "user_tz": -330
    },
    "id": "AgXyVsmmM7SV",
    "outputId": "ab08bd0b-7beb-4e81-c072-a4b04e0a858a"
   },
   "outputs": [
    {
     "name": "stdout",
     "output_type": "stream",
     "text": [
      "Counting unique values : \n",
      "Country       3\n",
      "Age          10\n",
      "Salary        9\n",
      "Purchased     2\n",
      "dtype: int64\n",
      "Format of columns : \n",
      "Country       object\n",
      "Age            int64\n",
      "Salary       float64\n",
      "Purchased     object\n",
      "dtype: object\n",
      "Converting data type : \n",
      "Country       object\n",
      "Age            int64\n",
      "Salary       float64\n",
      "Purchased     object\n",
      "dtype: object\n"
     ]
    }
   ],
   "source": [
    "print(\"Counting unique values : \")\n",
    "print(data.nunique())\n",
    "\n",
    "print(\"Format of columns : \")\n",
    "print(data.dtypes)\n",
    "\n",
    "\n",
    "print(\"Converting data type : \")\n",
    "data['Age'] = data['Age'].astype(int)  \n",
    "print(data.dtypes)"
   ]
  }
 ],
 "metadata": {
  "colab": {
   "authorship_tag": "ABX9TyPZwF0duimBieLoH4kITSM5",
   "provenance": []
  },
  "kernelspec": {
   "display_name": "Python 3",
   "name": "python3"
  },
  "language_info": {
   "name": "python"
  }
 },
 "nbformat": 4,
 "nbformat_minor": 0
}
